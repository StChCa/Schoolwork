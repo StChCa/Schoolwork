{
 "cells": [
  {
   "cell_type": "markdown",
   "metadata": {},
   "source": [
    "# Treasure Hunt Game Notebook\n",
    "\n",
    "## Read and Review Your Starter Code\n",
    "The theme of this project is a popular treasure hunt game in which the player needs to find the treasure before the pirate does. While you will not be developing the entire game, you will write the part of the game that represents the intelligent agent, which is a pirate in this case. The pirate will try to find the optimal path to the treasure using deep Q-learning. \n",
    "\n",
    "You have been provided with two Python classes and this notebook to help you with this assignment. The first class, TreasureMaze.py, represents the environment, which includes a maze object defined as a matrix. The second class, GameExperience.py, stores the episodes – that is, all the states that come in between the initial state and the terminal state. This is later used by the agent for learning by experience, called \"exploration\". This notebook shows how to play a game. Your task is to complete the deep Q-learning implementation for which a skeleton implementation has been provided. The code blocs you will need to complete has #TODO as a header.\n",
    "\n",
    "First, read and review the next few code and instruction blocks to understand the code that you have been given."
   ]
  },
  {
   "cell_type": "code",
   "execution_count": 291,
   "metadata": {},
   "outputs": [],
   "source": [
    "from __future__ import print_function\n",
    "import os, sys, time, datetime, json, random\n",
    "import numpy as np\n",
    "from keras.models import Sequential\n",
    "from keras.layers.core import Dense, Activation\n",
    "from keras.optimizers import SGD , Adam, RMSprop\n",
    "from keras.layers.advanced_activations import PReLU\n",
    "import matplotlib.pyplot as plt\n",
    "from TreasureMaze import TreasureMaze\n",
    "from GameExperience import GameExperience\n",
    "%matplotlib inline"
   ]
  },
  {
   "cell_type": "markdown",
   "metadata": {},
   "source": [
    "The following code block contains an 8x8 matrix that will be used as a maze object:"
   ]
  },
  {
   "cell_type": "code",
   "execution_count": 292,
   "metadata": {},
   "outputs": [],
   "source": [
    "maze = np.array([\n",
    "    [ 1.,  0.,  1.,  1.,  1.,  1.,  1.,  1.],\n",
    "    [ 1.,  0.,  1.,  1.,  1.,  0.,  1.,  1.],\n",
    "    [ 1.,  1.,  1.,  1.,  0.,  1.,  0.,  1.],\n",
    "    [ 1.,  1.,  1.,  0.,  1.,  1.,  1.,  1.],\n",
    "    [ 1.,  1.,  0.,  1.,  1.,  1.,  1.,  1.],\n",
    "    [ 1.,  1.,  1.,  0.,  1.,  0.,  0.,  0.],\n",
    "    [ 1.,  1.,  1.,  0.,  1.,  1.,  1.,  1.],\n",
    "    [ 1.,  1.,  1.,  1.,  0.,  1.,  1.,  1.]\n",
    "])"
   ]
  },
  {
   "cell_type": "markdown",
   "metadata": {},
   "source": [
    "This helper function allows a visual representation of the maze object:"
   ]
  },
  {
   "cell_type": "code",
   "execution_count": 293,
   "metadata": {},
   "outputs": [],
   "source": [
    "def show(qmaze):\n",
    "    plt.grid('on')\n",
    "    nrows, ncols = qmaze.maze.shape\n",
    "    ax = plt.gca()\n",
    "    ax.set_xticks(np.arange(0.5, nrows, 1))\n",
    "    ax.set_yticks(np.arange(0.5, ncols, 1))\n",
    "    ax.set_xticklabels([])\n",
    "    ax.set_yticklabels([])\n",
    "    canvas = np.copy(qmaze.maze)\n",
    "    for row,col in qmaze.visited:\n",
    "        canvas[row,col] = 0.6\n",
    "    pirate_row, pirate_col, _ = qmaze.state\n",
    "    canvas[pirate_row, pirate_col] = 0.3   # pirate cell\n",
    "    canvas[nrows-1, ncols-1] = 0.9 # treasure cell\n",
    "    img = plt.imshow(canvas, interpolation='none', cmap='gray')\n",
    "    return img"
   ]
  },
  {
   "cell_type": "markdown",
   "metadata": {},
   "source": [
    "The pirate agent can move in four directions: left, right, up, and down. \n",
    "\n",
    "While the agent primarily learns by experience through exploitation, often, the agent can choose to explore the environment to find previously undiscovered paths. This is called \"exploration\" and is defined by epsilon. This value is typically a lower value such as 0.1, which means for every ten attempts, the agent will attempt to learn by experience nine times and will randomly explore a new path one time. You are encouraged to try various values for the exploration factor and see how the algorithm performs."
   ]
  },
  {
   "cell_type": "code",
   "execution_count": 294,
   "metadata": {},
   "outputs": [],
   "source": [
    "LEFT = 0\n",
    "UP = 1\n",
    "RIGHT = 2\n",
    "DOWN = 3\n",
    "\n",
    "\n",
    "# Exploration factor\n",
    "epsilon = 0.01\n",
    "\n",
    "# Actions dictionary\n",
    "actions_dict = {\n",
    "    LEFT: 'left',\n",
    "    UP: 'up',\n",
    "    RIGHT: 'right',\n",
    "    DOWN: 'down',\n",
    "}\n",
    "\n",
    "num_actions = len(actions_dict)\n"
   ]
  },
  {
   "cell_type": "markdown",
   "metadata": {},
   "source": [
    "The sample code block and output below show creating a maze object and performing one action (DOWN), which returns the reward. The resulting updated environment is visualized."
   ]
  },
  {
   "cell_type": "code",
   "execution_count": 295,
   "metadata": {
    "scrolled": true
   },
   "outputs": [
    {
     "name": "stdout",
     "output_type": "stream",
     "text": [
      "reward= -0.04\n"
     ]
    },
    {
     "data": {
      "text/plain": [
       "<matplotlib.image.AxesImage at 0x1f59667e548>"
      ]
     },
     "execution_count": 295,
     "metadata": {},
     "output_type": "execute_result"
    },
    {
     "data": {
      "image/png": "[encoded data removed]",
      "text/plain": [
       "<Figure size 432x288 with 1 Axes>"
      ]
     },
     "metadata": {
      "needs_background": "light"
     },
     "output_type": "display_data"
    }
   ],
   "source": [
    "qmaze = TreasureMaze(maze)\n",
    "canvas, reward, game_over = qmaze.act(DOWN)\n",
    "print(\"reward=\", reward)\n",
    "show(qmaze)"
   ]
  },
  {
   "cell_type": "markdown",
   "metadata": {},
   "source": [
    "This function simulates a full game based on the provided trained model. The other parameters include the TreasureMaze object and the starting position of the pirate."
   ]
  },
  {
   "cell_type": "code",
   "execution_count": 296,
   "metadata": {},
   "outputs": [],
   "source": [
    "def play_game(model, qmaze, pirate_cell):\n",
    "    qmaze.reset(pirate_cell)\n",
    "    envstate = qmaze.observe()\n",
    "    while True:\n",
    "        prev_envstate = envstate\n",
    "        # get next action\n",
    "        q = model.predict(prev_envstate)\n",
    "        action = np.argmax(q[0])\n",
    "\n",
    "        # apply action, get rewards and new state\n",
    "        envstate, reward, game_status = qmaze.act(action)\n",
    "        if game_status == 'win':\n",
    "            return True\n",
    "        elif game_status == 'lose':\n",
    "            return False"
   ]
  },
  {
   "cell_type": "markdown",
   "metadata": {},
   "source": [
    "This function helps you to determine whether the pirate can win any game at all. If your maze is not well designed, the pirate may not win any game at all. In this case, your training would not yield any result. The provided maze in this notebook ensures that there is a path to win and you can run this method to check."
   ]
  },
  {
   "cell_type": "code",
   "execution_count": 297,
   "metadata": {},
   "outputs": [],
   "source": [
    "def completion_check(model, qmaze):\n",
    "    for cell in qmaze.free_cells:\n",
    "        if not qmaze.valid_actions(cell):\n",
    "            return False\n",
    "        if not play_game(model, qmaze, cell):\n",
    "            return False\n",
    "    return True"
   ]
  },
  {
   "cell_type": "markdown",
   "metadata": {},
   "source": [
    "The code you have been given in this block will build the neural network model. Review the code and note the number of layers, as well as the activation, optimizer, and loss functions that are used to train the model."
   ]
  },
  {
   "cell_type": "code",
   "execution_count": 298,
   "metadata": {},
   "outputs": [],
   "source": [
    "def build_model(maze):\n",
    "    model = Sequential()\n",
    "    model.add(Dense(maze.size, input_shape=(maze.size,)))\n",
    "    model.add(PReLU())\n",
    "    model.add(Dense(maze.size))\n",
    "    model.add(PReLU())\n",
    "    model.add(Dense(num_actions))\n",
    "    model.compile(optimizer='adam', loss='mse')\n",
    "    return model"
   ]
  },
  {
   "cell_type": "markdown",
   "metadata": {},
   "source": [
    "# #TODO: Complete the Q-Training Algorithm Code Block\n",
    "\n",
    "This is your deep Q-learning implementation. The goal of your deep Q-learning implementation is to find the best possible navigation sequence that results in reaching the treasure cell while maximizing the reward. In your implementation, you need to determine the optimal number of epochs to achieve a 100% win rate.\n",
    "\n",
    "You will need to complete the section starting with #pseudocode. The pseudocode has been included for you."
   ]
  },
  {
   "cell_type": "code",
   "execution_count": 299,
   "metadata": {},
   "outputs": [],
   "source": [
    "def qtrain(model, maze, **opt):\n",
    "\n",
    "    # exploration factor\n",
    "    global epsilon \n",
    "\n",
    "    # number of epochs\n",
    "#     n_epoch = opt.get('n_epoch', 15000)\n",
    "    n_epoch = opt.get('n_epoch', 1000)\n",
    "\n",
    "    # maximum memory to store episodes\n",
    "    max_memory = opt.get('max_memory', 1000)\n",
    "\n",
    "    # maximum data size for training\n",
    "    data_size = opt.get('data_size', 50)\n",
    "\n",
    "    # start time\n",
    "    start_time = datetime.datetime.now()\n",
    "\n",
    "    # Construct environment/game from numpy array: maze (see above)\n",
    "    qmaze = TreasureMaze(maze)\n",
    "\n",
    "    # Initialize experience replay object\n",
    "    experience = GameExperience(model, max_memory=max_memory)\n",
    "    \n",
    "    win_history = []   # history of win/lose game\n",
    "    hsize = qmaze.maze.size//2   # history window size\n",
    "    win_rate = 0.0\n",
    "    \n",
    "    # pseudocode:\n",
    "    # For each epoch:\n",
    "    #    Agent_cell = randomly select a free cell\n",
    "        \n",
    "    #    Reset the maze with agent set to above position\n",
    "       \n",
    "    #    Hint: Review the reset method in the TreasureMaze.py class.\n",
    "    #    envstate = Environment.current_state\n",
    "    #    Hint: Review the observe method in the TreasureMaze.py class.\n",
    "    #    While state is not game over:\n",
    "        \n",
    "    #        previous_envstate = envstate\n",
    "            \n",
    "    #        Action = randomly choose action (left, right, up, down) either by exploration or by exploitation\n",
    "\n",
    "    #        envstate, reward, game_status = qmaze.act(action)\n",
    "            \n",
    "    #    Hint: Review the act method in the TreasureMaze.py class.\n",
    "    #        episode = [previous_envstate, action, reward, envstate, game_status]\n",
    "            \n",
    "    #        Store episode in Experience replay object\n",
    "    #    Hint: Review the remember method in the GameExperience.py class.\n",
    "            \n",
    "    #        Train neural network model and evaluate loss\n",
    "    #    Hint: Call GameExperience.get_data to retrieve training data (input and target) and pass to model.fit method \n",
    "    #          to train the model. You can call model.evaluate to determine loss.\n",
    "    #    If the win rate is above the threshold and your model passes the completion check, that would be your epoch.\n",
    "    \n",
    "    for epoch in  range(0, n_epoch):\n",
    "        loss = 0\n",
    "        n_episodes = 0\n",
    "        \n",
    "        # Seed the maze with a random start point\n",
    "        random_cell = (random.randint(0,7),random.randint(0,7))\n",
    "        qmaze.reset(random_cell)\n",
    "        # Save the current state to a var\n",
    "        envstate = qmaze.observe()\n",
    "        \n",
    "        # Loop until the game is won or the negative point threshold is reached\n",
    "        while qmaze.game_status() == 'not_over':\n",
    "            n_episodes += 1\n",
    "            previous_envstate = envstate\n",
    "            \n",
    "            # Select an action\n",
    "            action = -1\n",
    "            if np.random.rand() < epsilon:\n",
    "                action = random.randint(0,num_actions-1)\n",
    "            else:\n",
    "                action = np.argmax(experience.predict(envstate))\n",
    "\n",
    "            # Perform the selected actionaction on the maze object\n",
    "            #print('ACTION ', action)\n",
    "            envstate, reward, game_status = qmaze.act(action)\n",
    "            \n",
    "            # Attempt to print maze (this currently does nothing)\n",
    "            show(qmaze)\n",
    "            \n",
    "            # Check to see if the pirate has found the treasure\n",
    "            if reward == 1:\n",
    "                #Victory! add win to win_history\n",
    "                win_history.append(1)\n",
    "                \n",
    "            # Add this episode to memory so the data can be used by future runs\n",
    "            episode = [previous_envstate, action, reward, envstate, game_status]\n",
    "            experience.remember(episode)\n",
    "            minput, mtarget = experience.get_data(30)\n",
    "            \n",
    "            # Train the model\n",
    "            loss += model.train_on_batch(minput, mtarget)\n",
    "        \n",
    "        # Update win rate var\n",
    "        win_rate = sum(win_history) / (epoch+1)\n",
    "\n",
    "\n",
    "\n",
    "    #Print the epoch, loss, episodes, win count, and win rate for each epoch\n",
    "        dt = datetime.datetime.now() - start_time\n",
    "        t = format_time(dt.total_seconds())\n",
    "        template = \"Epoch: {:03d}/{:d} | Loss: {:.4f} | Episodes: {:d} | Win count: {:d} | Win rate: {:.3f} | time: {}\"\n",
    "        print(template.format(epoch, n_epoch-1, loss, n_episodes, sum(win_history), win_rate, t))\n",
    "        show(qmaze)\n",
    "        # We simply check if training has exhausted all free cells and if in all\n",
    "        # cases the agent won.\n",
    "        if win_rate > 0.9 : epsilon = 0.05\n",
    "        if sum(win_history[-hsize:]) == hsize and completion_check(model, qmaze):\n",
    "            print(\"Reached 100%% win rate at epoch: %d\" % (epoch,))\n",
    "            break\n",
    "    \n",
    "    \n",
    "    # Determine the total time for training\n",
    "    dt = datetime.datetime.now() - start_time\n",
    "    seconds = dt.total_seconds()\n",
    "    t = format_time(seconds)\n",
    "\n",
    "    print(\"n_epoch: %d, max_mem: %d, data: %d, time: %s\" % (epoch, max_memory, data_size, t))\n",
    "    return seconds\n",
    "\n",
    "# This is a small utility for printing readable time strings:\n",
    "def format_time(seconds):\n",
    "    if seconds < 400:\n",
    "        s = float(seconds)\n",
    "        return \"%.1f seconds\" % (s,)\n",
    "    elif seconds < 4000:\n",
    "        m = seconds / 60.0\n",
    "        return \"%.2f minutes\" % (m,)\n",
    "    else:\n",
    "        h = seconds / 3600.0\n",
    "        return \"%.2f hours\" % (h,)"
   ]
  },
  {
   "cell_type": "markdown",
   "metadata": {},
   "source": [
    "## Test Your Model\n",
    "\n",
    "Now we will start testing the deep Q-learning implementation. To begin, select **Cell**, then **Run All** from the menu bar. This will run your notebook. As it runs, you should see output begin to appear beneath the next few cells. The code below creates an instance of TreasureMaze."
   ]
  },
  {
   "cell_type": "code",
   "execution_count": 300,
   "metadata": {},
   "outputs": [
    {
     "data": {
      "text/plain": [
       "<matplotlib.image.AxesImage at 0x1f59665e8c8>"
      ]
     },
     "execution_count": 300,
     "metadata": {},
     "output_type": "execute_result"
    },
    {
     "data": {
      "image/png": "[encoded data removed]",
      "text/plain": [
       "<Figure size 432x288 with 1 Axes>"
      ]
     },
     "metadata": {
      "needs_background": "light"
     },
     "output_type": "display_data"
    }
   ],
   "source": [
    "qmaze = TreasureMaze(maze)\n",
    "show(qmaze)"
   ]
  },
  {
   "cell_type": "markdown",
   "metadata": {},
   "source": [
    "In the next code block, you will build your model and train it using deep Q-learning. Note: This step takes several minutes to fully run."
   ]
  },
  {
   "cell_type": "code",
   "execution_count": 301,
   "metadata": {
    "scrolled": true
   },
   "outputs": [
    {
     "name": "stdout",
     "output_type": "stream",
     "text": [
      "Epoch: 000/999 | Loss: 0.3537 | Episodes: 131 | Win count: 0 | Win rate: 0.000 | time: 6.9 seconds\n",
      "Epoch: 001/999 | Loss: 0.0481 | Episodes: 134 | Win count: 0 | Win rate: 0.000 | time: 12.8 seconds\n",
      "Epoch: 002/999 | Loss: 0.0692 | Episodes: 134 | Win count: 0 | Win rate: 0.000 | time: 19.0 seconds\n",
      "Epoch: 003/999 | Loss: 0.0544 | Episodes: 134 | Win count: 0 | Win rate: 0.000 | time: 24.7 seconds\n",
      "Epoch: 004/999 | Loss: 0.0783 | Episodes: 137 | Win count: 0 | Win rate: 0.000 | time: 30.7 seconds\n",
      "Epoch: 005/999 | Loss: 0.0720 | Episodes: 138 | Win count: 0 | Win rate: 0.000 | time: 36.6 seconds\n",
      "Epoch: 006/999 | Loss: 0.0231 | Episodes: 39 | Win count: 1 | Win rate: 0.143 | time: 38.1 seconds\n",
      "Epoch: 007/999 | Loss: 0.1763 | Episodes: 138 | Win count: 1 | Win rate: 0.125 | time: 43.6 seconds\n",
      "Epoch: 008/999 | Loss: 0.2220 | Episodes: 139 | Win count: 1 | Win rate: 0.111 | time: 50.3 seconds\n",
      "Epoch: 009/999 | Loss: 0.1546 | Episodes: 139 | Win count: 1 | Win rate: 0.100 | time: 57.1 seconds\n",
      "Epoch: 010/999 | Loss: 0.1089 | Episodes: 116 | Win count: 2 | Win rate: 0.182 | time: 63.0 seconds\n",
      "Epoch: 011/999 | Loss: 0.2030 | Episodes: 137 | Win count: 2 | Win rate: 0.167 | time: 68.8 seconds\n",
      "Epoch: 012/999 | Loss: 0.1975 | Episodes: 144 | Win count: 2 | Win rate: 0.154 | time: 74.8 seconds\n",
      "Epoch: 013/999 | Loss: 0.1685 | Episodes: 139 | Win count: 2 | Win rate: 0.143 | time: 80.9 seconds\n",
      "Epoch: 014/999 | Loss: 0.1565 | Episodes: 141 | Win count: 2 | Win rate: 0.133 | time: 86.8 seconds\n",
      "Epoch: 015/999 | Loss: 0.1512 | Episodes: 141 | Win count: 2 | Win rate: 0.125 | time: 93.5 seconds\n",
      "Epoch: 016/999 | Loss: 0.1260 | Episodes: 136 | Win count: 2 | Win rate: 0.118 | time: 98.9 seconds\n",
      "Epoch: 017/999 | Loss: 0.1116 | Episodes: 139 | Win count: 2 | Win rate: 0.111 | time: 104.6 seconds\n",
      "Epoch: 018/999 | Loss: 0.1350 | Episodes: 148 | Win count: 2 | Win rate: 0.105 | time: 111.1 seconds\n",
      "Epoch: 019/999 | Loss: 0.1535 | Episodes: 150 | Win count: 2 | Win rate: 0.100 | time: 118.8 seconds\n",
      "Epoch: 020/999 | Loss: 0.0095 | Episodes: 9 | Win count: 3 | Win rate: 0.143 | time: 119.2 seconds\n",
      "Epoch: 021/999 | Loss: 0.3148 | Episodes: 140 | Win count: 3 | Win rate: 0.136 | time: 125.7 seconds\n",
      "Epoch: 022/999 | Loss: 0.2581 | Episodes: 134 | Win count: 3 | Win rate: 0.130 | time: 131.9 seconds\n",
      "Epoch: 023/999 | Loss: 0.1407 | Episodes: 83 | Win count: 4 | Win rate: 0.167 | time: 135.5 seconds\n",
      "Epoch: 024/999 | Loss: 0.0151 | Episodes: 4 | Win count: 5 | Win rate: 0.200 | time: 135.6 seconds\n",
      "Epoch: 025/999 | Loss: 0.3445 | Episodes: 133 | Win count: 5 | Win rate: 0.192 | time: 141.2 seconds\n",
      "Epoch: 026/999 | Loss: 0.2571 | Episodes: 135 | Win count: 5 | Win rate: 0.185 | time: 146.7 seconds\n",
      "Epoch: 027/999 | Loss: 0.1901 | Episodes: 135 | Win count: 5 | Win rate: 0.179 | time: 152.8 seconds\n",
      "Epoch: 028/999 | Loss: 0.2242 | Episodes: 138 | Win count: 5 | Win rate: 0.172 | time: 158.4 seconds\n",
      "Epoch: 029/999 | Loss: 0.0892 | Episodes: 134 | Win count: 5 | Win rate: 0.167 | time: 163.9 seconds\n",
      "Epoch: 030/999 | Loss: 0.0915 | Episodes: 135 | Win count: 5 | Win rate: 0.161 | time: 169.9 seconds\n",
      "Epoch: 031/999 | Loss: 0.0002 | Episodes: 1 | Win count: 6 | Win rate: 0.188 | time: 169.9 seconds\n",
      "Epoch: 032/999 | Loss: 0.1834 | Episodes: 144 | Win count: 6 | Win rate: 0.182 | time: 176.3 seconds\n",
      "Epoch: 033/999 | Loss: 0.2061 | Episodes: 139 | Win count: 6 | Win rate: 0.176 | time: 182.6 seconds\n",
      "Epoch: 034/999 | Loss: 0.0000 | Episodes: 0 | Win count: 6 | Win rate: 0.171 | time: 182.6 seconds\n",
      "Epoch: 035/999 | Loss: 0.0327 | Episodes: 35 | Win count: 7 | Win rate: 0.194 | time: 184.1 seconds\n",
      "Epoch: 036/999 | Loss: 0.2361 | Episodes: 141 | Win count: 7 | Win rate: 0.189 | time: 190.0 seconds\n",
      "Epoch: 037/999 | Loss: 0.1970 | Episodes: 135 | Win count: 7 | Win rate: 0.184 | time: 195.6 seconds\n",
      "Epoch: 038/999 | Loss: 0.2328 | Episodes: 149 | Win count: 7 | Win rate: 0.179 | time: 202.1 seconds\n",
      "Epoch: 039/999 | Loss: 0.1809 | Episodes: 136 | Win count: 7 | Win rate: 0.175 | time: 208.0 seconds\n",
      "Epoch: 040/999 | Loss: 0.1227 | Episodes: 137 | Win count: 7 | Win rate: 0.171 | time: 216.4 seconds\n",
      "Epoch: 041/999 | Loss: 0.1239 | Episodes: 138 | Win count: 7 | Win rate: 0.167 | time: 222.2 seconds\n",
      "Epoch: 042/999 | Loss: 0.0811 | Episodes: 134 | Win count: 7 | Win rate: 0.163 | time: 227.8 seconds\n",
      "Epoch: 043/999 | Loss: 0.0843 | Episodes: 137 | Win count: 7 | Win rate: 0.159 | time: 234.6 seconds\n",
      "Epoch: 044/999 | Loss: 0.1040 | Episodes: 144 | Win count: 7 | Win rate: 0.156 | time: 241.1 seconds\n",
      "Epoch: 045/999 | Loss: 0.0399 | Episodes: 55 | Win count: 8 | Win rate: 0.174 | time: 243.6 seconds\n",
      "Epoch: 046/999 | Loss: 0.2378 | Episodes: 149 | Win count: 8 | Win rate: 0.170 | time: 249.9 seconds\n",
      "Epoch: 047/999 | Loss: 0.2578 | Episodes: 149 | Win count: 8 | Win rate: 0.167 | time: 256.2 seconds\n",
      "Epoch: 048/999 | Loss: 0.2172 | Episodes: 138 | Win count: 8 | Win rate: 0.163 | time: 262.0 seconds\n",
      "Epoch: 049/999 | Loss: 0.1494 | Episodes: 106 | Win count: 9 | Win rate: 0.180 | time: 266.4 seconds\n",
      "Epoch: 050/999 | Loss: 0.1565 | Episodes: 75 | Win count: 10 | Win rate: 0.196 | time: 269.5 seconds\n",
      "Epoch: 051/999 | Loss: 0.1753 | Episodes: 66 | Win count: 11 | Win rate: 0.212 | time: 272.7 seconds\n",
      "Epoch: 052/999 | Loss: 0.4094 | Episodes: 144 | Win count: 11 | Win rate: 0.208 | time: 278.6 seconds\n",
      "Epoch: 053/999 | Loss: 0.0179 | Episodes: 4 | Win count: 12 | Win rate: 0.222 | time: 278.8 seconds\n",
      "Epoch: 054/999 | Loss: 0.2833 | Episodes: 145 | Win count: 12 | Win rate: 0.218 | time: 284.8 seconds\n",
      "Epoch: 055/999 | Loss: 0.3190 | Episodes: 150 | Win count: 12 | Win rate: 0.214 | time: 291.1 seconds\n",
      "Epoch: 056/999 | Loss: 0.1984 | Episodes: 142 | Win count: 12 | Win rate: 0.211 | time: 297.6 seconds\n",
      "Epoch: 057/999 | Loss: 0.0593 | Episodes: 53 | Win count: 13 | Win rate: 0.224 | time: 300.2 seconds\n",
      "Epoch: 058/999 | Loss: 0.0144 | Episodes: 11 | Win count: 14 | Win rate: 0.237 | time: 300.8 seconds\n",
      "Epoch: 059/999 | Loss: 0.3061 | Episodes: 135 | Win count: 14 | Win rate: 0.233 | time: 307.0 seconds\n",
      "Epoch: 060/999 | Loss: 0.2573 | Episodes: 134 | Win count: 14 | Win rate: 0.230 | time: 313.0 seconds\n",
      "Epoch: 061/999 | Loss: 0.1746 | Episodes: 143 | Win count: 14 | Win rate: 0.226 | time: 319.1 seconds\n",
      "Epoch: 062/999 | Loss: 0.1466 | Episodes: 142 | Win count: 14 | Win rate: 0.222 | time: 325.0 seconds\n",
      "Epoch: 063/999 | Loss: 0.0232 | Episodes: 32 | Win count: 15 | Win rate: 0.234 | time: 326.3 seconds\n",
      "Epoch: 064/999 | Loss: 0.0035 | Episodes: 3 | Win count: 16 | Win rate: 0.246 | time: 326.4 seconds\n",
      "Epoch: 065/999 | Loss: 0.1300 | Episodes: 148 | Win count: 16 | Win rate: 0.242 | time: 332.5 seconds\n",
      "Epoch: 066/999 | Loss: 0.0701 | Episodes: 68 | Win count: 17 | Win rate: 0.254 | time: 335.3 seconds\n",
      "Epoch: 067/999 | Loss: 0.2691 | Episodes: 150 | Win count: 17 | Win rate: 0.250 | time: 342.1 seconds\n",
      "Epoch: 068/999 | Loss: 0.0140 | Episodes: 3 | Win count: 18 | Win rate: 0.261 | time: 342.2 seconds\n",
      "Epoch: 069/999 | Loss: 0.1325 | Episodes: 47 | Win count: 19 | Win rate: 0.271 | time: 344.1 seconds\n",
      "Epoch: 070/999 | Loss: 0.3675 | Episodes: 144 | Win count: 19 | Win rate: 0.268 | time: 350.1 seconds\n",
      "Epoch: 071/999 | Loss: 0.2328 | Episodes: 132 | Win count: 20 | Win rate: 0.278 | time: 356.7 seconds\n",
      "Epoch: 072/999 | Loss: 0.1762 | Episodes: 134 | Win count: 20 | Win rate: 0.274 | time: 362.3 seconds\n",
      "Epoch: 073/999 | Loss: 0.0447 | Episodes: 34 | Win count: 21 | Win rate: 0.284 | time: 363.6 seconds\n",
      "Epoch: 074/999 | Loss: 0.0133 | Episodes: 9 | Win count: 22 | Win rate: 0.293 | time: 364.0 seconds\n",
      "Epoch: 075/999 | Loss: 0.0913 | Episodes: 58 | Win count: 23 | Win rate: 0.303 | time: 366.3 seconds\n",
      "Epoch: 076/999 | Loss: 0.0014 | Episodes: 1 | Win count: 24 | Win rate: 0.312 | time: 366.4 seconds\n",
      "Epoch: 077/999 | Loss: 0.1295 | Episodes: 95 | Win count: 25 | Win rate: 0.321 | time: 370.4 seconds\n",
      "Epoch: 078/999 | Loss: 0.1748 | Episodes: 142 | Win count: 26 | Win rate: 0.329 | time: 376.7 seconds\n",
      "Epoch: 079/999 | Loss: 0.1328 | Episodes: 126 | Win count: 27 | Win rate: 0.338 | time: 382.3 seconds\n",
      "Epoch: 080/999 | Loss: 0.0460 | Episodes: 37 | Win count: 28 | Win rate: 0.346 | time: 383.9 seconds\n",
      "Epoch: 081/999 | Loss: 0.1891 | Episodes: 144 | Win count: 28 | Win rate: 0.341 | time: 390.1 seconds\n"
     ]
    },
    {
     "name": "stdout",
     "output_type": "stream",
     "text": [
      "Epoch: 082/999 | Loss: 0.1797 | Episodes: 142 | Win count: 28 | Win rate: 0.337 | time: 396.3 seconds\n",
      "Epoch: 083/999 | Loss: 0.0468 | Episodes: 38 | Win count: 29 | Win rate: 0.345 | time: 397.9 seconds\n",
      "Epoch: 084/999 | Loss: 0.0082 | Episodes: 6 | Win count: 30 | Win rate: 0.353 | time: 398.1 seconds\n",
      "Epoch: 085/999 | Loss: 0.0181 | Episodes: 15 | Win count: 31 | Win rate: 0.360 | time: 398.7 seconds\n",
      "Epoch: 086/999 | Loss: 0.0975 | Episodes: 57 | Win count: 32 | Win rate: 0.368 | time: 6.69 minutes\n",
      "Epoch: 087/999 | Loss: 0.0392 | Episodes: 25 | Win count: 33 | Win rate: 0.375 | time: 6.71 minutes\n",
      "Epoch: 088/999 | Loss: 0.0045 | Episodes: 3 | Win count: 34 | Win rate: 0.382 | time: 6.71 minutes\n",
      "Epoch: 089/999 | Loss: 0.1706 | Episodes: 141 | Win count: 34 | Win rate: 0.378 | time: 6.81 minutes\n",
      "Epoch: 090/999 | Loss: 0.0027 | Episodes: 3 | Win count: 35 | Win rate: 0.385 | time: 6.82 minutes\n",
      "Epoch: 091/999 | Loss: 0.0089 | Episodes: 9 | Win count: 36 | Win rate: 0.391 | time: 6.82 minutes\n",
      "Epoch: 092/999 | Loss: 0.0068 | Episodes: 8 | Win count: 37 | Win rate: 0.398 | time: 6.83 minutes\n",
      "Epoch: 093/999 | Loss: 0.0512 | Episodes: 49 | Win count: 38 | Win rate: 0.404 | time: 6.89 minutes\n",
      "Epoch: 094/999 | Loss: 0.0088 | Episodes: 7 | Win count: 39 | Win rate: 0.411 | time: 6.90 minutes\n",
      "Epoch: 095/999 | Loss: 0.0000 | Episodes: 0 | Win count: 39 | Win rate: 0.406 | time: 6.90 minutes\n",
      "Epoch: 096/999 | Loss: 0.0166 | Episodes: 14 | Win count: 40 | Win rate: 0.412 | time: 6.92 minutes\n",
      "Epoch: 097/999 | Loss: 0.0156 | Episodes: 16 | Win count: 41 | Win rate: 0.418 | time: 6.93 minutes\n",
      "Epoch: 098/999 | Loss: 0.0528 | Episodes: 52 | Win count: 42 | Win rate: 0.424 | time: 6.98 minutes\n",
      "Epoch: 099/999 | Loss: 0.0197 | Episodes: 19 | Win count: 43 | Win rate: 0.430 | time: 6.99 minutes\n",
      "Epoch: 100/999 | Loss: 0.0021 | Episodes: 2 | Win count: 44 | Win rate: 0.436 | time: 7.00 minutes\n",
      "Epoch: 101/999 | Loss: 0.0042 | Episodes: 3 | Win count: 45 | Win rate: 0.441 | time: 7.00 minutes\n",
      "Epoch: 102/999 | Loss: 0.0094 | Episodes: 7 | Win count: 46 | Win rate: 0.447 | time: 7.01 minutes\n",
      "Epoch: 103/999 | Loss: 0.0125 | Episodes: 6 | Win count: 47 | Win rate: 0.452 | time: 7.02 minutes\n",
      "Epoch: 104/999 | Loss: 0.0194 | Episodes: 13 | Win count: 48 | Win rate: 0.457 | time: 7.03 minutes\n",
      "Epoch: 105/999 | Loss: 0.0099 | Episodes: 8 | Win count: 49 | Win rate: 0.462 | time: 7.04 minutes\n",
      "Epoch: 106/999 | Loss: 0.0241 | Episodes: 27 | Win count: 50 | Win rate: 0.467 | time: 7.06 minutes\n",
      "Epoch: 107/999 | Loss: 0.0675 | Episodes: 73 | Win count: 51 | Win rate: 0.472 | time: 7.11 minutes\n",
      "Epoch: 108/999 | Loss: 0.0251 | Episodes: 26 | Win count: 52 | Win rate: 0.477 | time: 7.13 minutes\n",
      "Epoch: 109/999 | Loss: 0.0475 | Episodes: 33 | Win count: 53 | Win rate: 0.482 | time: 7.15 minutes\n",
      "Epoch: 110/999 | Loss: 0.0056 | Episodes: 4 | Win count: 54 | Win rate: 0.486 | time: 7.15 minutes\n",
      "Epoch: 111/999 | Loss: 0.0164 | Episodes: 15 | Win count: 55 | Win rate: 0.491 | time: 7.17 minutes\n",
      "Epoch: 112/999 | Loss: 0.0377 | Episodes: 37 | Win count: 56 | Win rate: 0.496 | time: 7.19 minutes\n",
      "Epoch: 113/999 | Loss: 0.0095 | Episodes: 9 | Win count: 57 | Win rate: 0.500 | time: 7.20 minutes\n",
      "Epoch: 114/999 | Loss: 0.0135 | Episodes: 12 | Win count: 58 | Win rate: 0.504 | time: 7.21 minutes\n",
      "Epoch: 115/999 | Loss: 0.0000 | Episodes: 0 | Win count: 58 | Win rate: 0.500 | time: 7.21 minutes\n",
      "Epoch: 116/999 | Loss: 0.0539 | Episodes: 55 | Win count: 59 | Win rate: 0.504 | time: 7.25 minutes\n",
      "Epoch: 117/999 | Loss: 0.0223 | Episodes: 22 | Win count: 60 | Win rate: 0.508 | time: 7.27 minutes\n",
      "Epoch: 118/999 | Loss: 0.0261 | Episodes: 26 | Win count: 61 | Win rate: 0.513 | time: 7.28 minutes\n",
      "Epoch: 119/999 | Loss: 0.0165 | Episodes: 16 | Win count: 62 | Win rate: 0.517 | time: 7.30 minutes\n",
      "Epoch: 120/999 | Loss: 0.0286 | Episodes: 32 | Win count: 63 | Win rate: 0.521 | time: 7.32 minutes\n",
      "Epoch: 121/999 | Loss: 0.0095 | Episodes: 10 | Win count: 64 | Win rate: 0.525 | time: 7.33 minutes\n",
      "Epoch: 122/999 | Loss: 0.0020 | Episodes: 2 | Win count: 65 | Win rate: 0.528 | time: 7.33 minutes\n",
      "Epoch: 123/999 | Loss: 0.0960 | Episodes: 80 | Win count: 66 | Win rate: 0.532 | time: 7.39 minutes\n",
      "Epoch: 124/999 | Loss: 0.0204 | Episodes: 16 | Win count: 67 | Win rate: 0.536 | time: 7.40 minutes\n",
      "Epoch: 125/999 | Loss: 0.0778 | Episodes: 58 | Win count: 68 | Win rate: 0.540 | time: 7.44 minutes\n",
      "Epoch: 126/999 | Loss: 0.0249 | Episodes: 18 | Win count: 69 | Win rate: 0.543 | time: 7.46 minutes\n",
      "Epoch: 127/999 | Loss: 0.0303 | Episodes: 24 | Win count: 70 | Win rate: 0.547 | time: 7.48 minutes\n",
      "Epoch: 128/999 | Loss: 0.0274 | Episodes: 20 | Win count: 71 | Win rate: 0.550 | time: 7.49 minutes\n",
      "Epoch: 129/999 | Loss: 0.0155 | Episodes: 13 | Win count: 72 | Win rate: 0.554 | time: 7.50 minutes\n",
      "Epoch: 130/999 | Loss: 0.1401 | Episodes: 104 | Win count: 73 | Win rate: 0.557 | time: 7.58 minutes\n",
      "Epoch: 131/999 | Loss: 0.0029 | Episodes: 2 | Win count: 74 | Win rate: 0.561 | time: 7.58 minutes\n",
      "Epoch: 132/999 | Loss: 0.0482 | Episodes: 36 | Win count: 75 | Win rate: 0.564 | time: 7.61 minutes\n",
      "Epoch: 133/999 | Loss: 0.0068 | Episodes: 4 | Win count: 76 | Win rate: 0.567 | time: 7.62 minutes\n",
      "Epoch: 134/999 | Loss: 0.0212 | Episodes: 18 | Win count: 77 | Win rate: 0.570 | time: 7.63 minutes\n",
      "Epoch: 135/999 | Loss: 0.0026 | Episodes: 2 | Win count: 78 | Win rate: 0.574 | time: 7.63 minutes\n",
      "Epoch: 136/999 | Loss: 0.0326 | Episodes: 28 | Win count: 79 | Win rate: 0.577 | time: 7.65 minutes\n",
      "Epoch: 137/999 | Loss: 0.0407 | Episodes: 31 | Win count: 80 | Win rate: 0.580 | time: 7.68 minutes\n",
      "Epoch: 138/999 | Loss: 0.0050 | Episodes: 4 | Win count: 81 | Win rate: 0.583 | time: 7.68 minutes\n",
      "Epoch: 139/999 | Loss: 0.0170 | Episodes: 13 | Win count: 82 | Win rate: 0.586 | time: 7.69 minutes\n",
      "Epoch: 140/999 | Loss: 0.0421 | Episodes: 31 | Win count: 83 | Win rate: 0.589 | time: 7.71 minutes\n",
      "Epoch: 141/999 | Loss: 0.0580 | Episodes: 46 | Win count: 84 | Win rate: 0.592 | time: 7.75 minutes\n",
      "Epoch: 142/999 | Loss: 0.0294 | Episodes: 24 | Win count: 85 | Win rate: 0.594 | time: 7.76 minutes\n",
      "Epoch: 143/999 | Loss: 0.0000 | Episodes: 0 | Win count: 85 | Win rate: 0.590 | time: 7.77 minutes\n",
      "Epoch: 144/999 | Loss: 0.0066 | Episodes: 6 | Win count: 86 | Win rate: 0.593 | time: 7.77 minutes\n",
      "Epoch: 145/999 | Loss: 0.0025 | Episodes: 3 | Win count: 87 | Win rate: 0.596 | time: 7.77 minutes\n",
      "Epoch: 146/999 | Loss: 0.0314 | Episodes: 28 | Win count: 88 | Win rate: 0.599 | time: 7.80 minutes\n",
      "Epoch: 147/999 | Loss: 0.0062 | Episodes: 5 | Win count: 89 | Win rate: 0.601 | time: 7.81 minutes\n",
      "Epoch: 148/999 | Loss: 0.0509 | Episodes: 39 | Win count: 90 | Win rate: 0.604 | time: 7.84 minutes\n",
      "Epoch: 149/999 | Loss: 0.0405 | Episodes: 38 | Win count: 91 | Win rate: 0.607 | time: 7.87 minutes\n",
      "Epoch: 150/999 | Loss: 0.0115 | Episodes: 12 | Win count: 92 | Win rate: 0.609 | time: 7.89 minutes\n",
      "Epoch: 151/999 | Loss: 0.0116 | Episodes: 12 | Win count: 93 | Win rate: 0.612 | time: 7.91 minutes\n",
      "Epoch: 152/999 | Loss: 0.0207 | Episodes: 22 | Win count: 94 | Win rate: 0.614 | time: 7.93 minutes\n",
      "Epoch: 153/999 | Loss: 0.0150 | Episodes: 15 | Win count: 95 | Win rate: 0.617 | time: 7.94 minutes\n",
      "Epoch: 154/999 | Loss: 0.0065 | Episodes: 7 | Win count: 96 | Win rate: 0.619 | time: 7.96 minutes\n",
      "Epoch: 155/999 | Loss: 0.0028 | Episodes: 3 | Win count: 97 | Win rate: 0.622 | time: 7.96 minutes\n",
      "Epoch: 156/999 | Loss: 0.0147 | Episodes: 17 | Win count: 98 | Win rate: 0.624 | time: 7.98 minutes\n",
      "Epoch: 157/999 | Loss: 0.0228 | Episodes: 23 | Win count: 99 | Win rate: 0.627 | time: 8.00 minutes\n",
      "Epoch: 158/999 | Loss: 0.0000 | Episodes: 0 | Win count: 99 | Win rate: 0.623 | time: 8.00 minutes\n",
      "Epoch: 159/999 | Loss: 0.0223 | Episodes: 23 | Win count: 100 | Win rate: 0.625 | time: 8.03 minutes\n",
      "Epoch: 160/999 | Loss: 0.1371 | Episodes: 127 | Win count: 101 | Win rate: 0.627 | time: 8.13 minutes\n",
      "Epoch: 161/999 | Loss: 0.0436 | Episodes: 36 | Win count: 102 | Win rate: 0.630 | time: 8.16 minutes\n",
      "Epoch: 162/999 | Loss: 0.0187 | Episodes: 16 | Win count: 103 | Win rate: 0.632 | time: 8.18 minutes\n",
      "Epoch: 163/999 | Loss: 0.0206 | Episodes: 16 | Win count: 104 | Win rate: 0.634 | time: 8.19 minutes\n",
      "Epoch: 164/999 | Loss: 0.0239 | Episodes: 20 | Win count: 105 | Win rate: 0.636 | time: 8.21 minutes\n"
     ]
    },
    {
     "name": "stdout",
     "output_type": "stream",
     "text": [
      "Epoch: 165/999 | Loss: 0.0268 | Episodes: 25 | Win count: 106 | Win rate: 0.639 | time: 8.23 minutes\n",
      "Epoch: 166/999 | Loss: 0.0177 | Episodes: 19 | Win count: 107 | Win rate: 0.641 | time: 8.25 minutes\n",
      "Epoch: 167/999 | Loss: 0.0058 | Episodes: 5 | Win count: 108 | Win rate: 0.643 | time: 8.26 minutes\n",
      "Epoch: 168/999 | Loss: 0.0262 | Episodes: 24 | Win count: 109 | Win rate: 0.645 | time: 8.28 minutes\n",
      "Epoch: 169/999 | Loss: 0.0209 | Episodes: 22 | Win count: 110 | Win rate: 0.647 | time: 8.30 minutes\n",
      "Epoch: 170/999 | Loss: 0.0391 | Episodes: 39 | Win count: 111 | Win rate: 0.649 | time: 8.32 minutes\n",
      "Epoch: 171/999 | Loss: 0.0237 | Episodes: 26 | Win count: 112 | Win rate: 0.651 | time: 8.35 minutes\n",
      "Epoch: 172/999 | Loss: 0.0049 | Episodes: 5 | Win count: 113 | Win rate: 0.653 | time: 8.35 minutes\n",
      "Epoch: 173/999 | Loss: 0.0031 | Episodes: 3 | Win count: 114 | Win rate: 0.655 | time: 8.36 minutes\n",
      "Epoch: 174/999 | Loss: 0.0611 | Episodes: 49 | Win count: 115 | Win rate: 0.657 | time: 8.39 minutes\n",
      "Epoch: 175/999 | Loss: 0.0269 | Episodes: 25 | Win count: 116 | Win rate: 0.659 | time: 8.41 minutes\n",
      "Epoch: 176/999 | Loss: 0.1233 | Episodes: 145 | Win count: 117 | Win rate: 0.661 | time: 8.52 minutes\n",
      "Epoch: 177/999 | Loss: 0.0163 | Episodes: 20 | Win count: 118 | Win rate: 0.663 | time: 8.54 minutes\n",
      "Epoch: 178/999 | Loss: 0.0192 | Episodes: 27 | Win count: 119 | Win rate: 0.665 | time: 8.56 minutes\n",
      "Epoch: 179/999 | Loss: 0.0245 | Episodes: 29 | Win count: 120 | Win rate: 0.667 | time: 8.58 minutes\n",
      "Epoch: 180/999 | Loss: 0.0135 | Episodes: 18 | Win count: 121 | Win rate: 0.669 | time: 8.60 minutes\n",
      "Epoch: 181/999 | Loss: 0.0119 | Episodes: 20 | Win count: 122 | Win rate: 0.670 | time: 8.62 minutes\n",
      "Epoch: 182/999 | Loss: 0.0138 | Episodes: 23 | Win count: 123 | Win rate: 0.672 | time: 8.64 minutes\n",
      "Epoch: 183/999 | Loss: 0.0055 | Episodes: 10 | Win count: 124 | Win rate: 0.674 | time: 8.65 minutes\n",
      "Epoch: 184/999 | Loss: 0.0162 | Episodes: 26 | Win count: 125 | Win rate: 0.676 | time: 8.68 minutes\n",
      "Epoch: 185/999 | Loss: 0.0238 | Episodes: 35 | Win count: 126 | Win rate: 0.677 | time: 8.70 minutes\n",
      "Epoch: 186/999 | Loss: 0.0179 | Episodes: 26 | Win count: 127 | Win rate: 0.679 | time: 8.73 minutes\n",
      "Epoch: 187/999 | Loss: 0.0234 | Episodes: 34 | Win count: 128 | Win rate: 0.681 | time: 8.75 minutes\n",
      "Epoch: 188/999 | Loss: 0.0108 | Episodes: 16 | Win count: 129 | Win rate: 0.683 | time: 8.76 minutes\n",
      "Epoch: 189/999 | Loss: 0.0005 | Episodes: 1 | Win count: 130 | Win rate: 0.684 | time: 8.77 minutes\n",
      "Epoch: 190/999 | Loss: 0.0036 | Episodes: 5 | Win count: 131 | Win rate: 0.686 | time: 8.77 minutes\n",
      "Epoch: 191/999 | Loss: 0.0056 | Episodes: 10 | Win count: 132 | Win rate: 0.688 | time: 8.78 minutes\n",
      "Epoch: 192/999 | Loss: 0.0059 | Episodes: 10 | Win count: 133 | Win rate: 0.689 | time: 8.79 minutes\n",
      "Epoch: 193/999 | Loss: 0.0006 | Episodes: 1 | Win count: 134 | Win rate: 0.691 | time: 8.80 minutes\n",
      "Epoch: 194/999 | Loss: 0.0136 | Episodes: 27 | Win count: 135 | Win rate: 0.692 | time: 8.82 minutes\n",
      "Epoch: 195/999 | Loss: 0.0210 | Episodes: 32 | Win count: 136 | Win rate: 0.694 | time: 8.85 minutes\n",
      "Epoch: 196/999 | Loss: 0.0150 | Episodes: 21 | Win count: 137 | Win rate: 0.695 | time: 8.87 minutes\n",
      "Epoch: 197/999 | Loss: 0.0000 | Episodes: 0 | Win count: 137 | Win rate: 0.692 | time: 8.88 minutes\n",
      "Epoch: 198/999 | Loss: 0.0014 | Episodes: 2 | Win count: 138 | Win rate: 0.693 | time: 8.88 minutes\n",
      "Epoch: 199/999 | Loss: 0.0267 | Episodes: 45 | Win count: 139 | Win rate: 0.695 | time: 8.93 minutes\n",
      "Epoch: 200/999 | Loss: 0.0095 | Episodes: 17 | Win count: 140 | Win rate: 0.697 | time: 8.94 minutes\n",
      "Epoch: 201/999 | Loss: 0.0047 | Episodes: 11 | Win count: 141 | Win rate: 0.698 | time: 8.96 minutes\n",
      "Epoch: 202/999 | Loss: 0.0104 | Episodes: 22 | Win count: 142 | Win rate: 0.700 | time: 8.98 minutes\n",
      "Epoch: 203/999 | Loss: 0.0072 | Episodes: 15 | Win count: 143 | Win rate: 0.701 | time: 9.00 minutes\n",
      "Epoch: 204/999 | Loss: 0.0245 | Episodes: 45 | Win count: 144 | Win rate: 0.702 | time: 9.04 minutes\n",
      "Epoch: 205/999 | Loss: 0.0263 | Episodes: 38 | Win count: 145 | Win rate: 0.704 | time: 9.08 minutes\n",
      "Epoch: 206/999 | Loss: 0.0042 | Episodes: 7 | Win count: 146 | Win rate: 0.705 | time: 9.09 minutes\n",
      "Epoch: 207/999 | Loss: 0.0482 | Episodes: 59 | Win count: 147 | Win rate: 0.707 | time: 9.14 minutes\n",
      "Epoch: 208/999 | Loss: 0.0142 | Episodes: 14 | Win count: 148 | Win rate: 0.708 | time: 9.16 minutes\n",
      "Epoch: 209/999 | Loss: 0.0013 | Episodes: 2 | Win count: 149 | Win rate: 0.710 | time: 9.16 minutes\n",
      "Epoch: 210/999 | Loss: 0.0176 | Episodes: 23 | Win count: 150 | Win rate: 0.711 | time: 9.19 minutes\n",
      "Epoch: 211/999 | Loss: 0.0136 | Episodes: 17 | Win count: 151 | Win rate: 0.712 | time: 9.20 minutes\n",
      "Epoch: 212/999 | Loss: 0.0098 | Episodes: 10 | Win count: 152 | Win rate: 0.714 | time: 9.22 minutes\n",
      "Epoch: 213/999 | Loss: 0.0246 | Episodes: 36 | Win count: 153 | Win rate: 0.715 | time: 9.25 minutes\n",
      "Epoch: 214/999 | Loss: 0.0047 | Episodes: 6 | Win count: 154 | Win rate: 0.716 | time: 9.26 minutes\n",
      "Epoch: 215/999 | Loss: 0.0023 | Episodes: 2 | Win count: 155 | Win rate: 0.718 | time: 9.27 minutes\n",
      "Epoch: 216/999 | Loss: 0.0454 | Episodes: 58 | Win count: 156 | Win rate: 0.719 | time: 9.32 minutes\n",
      "Epoch: 217/999 | Loss: 0.0117 | Episodes: 13 | Win count: 157 | Win rate: 0.720 | time: 9.33 minutes\n",
      "Epoch: 218/999 | Loss: 0.0170 | Episodes: 16 | Win count: 158 | Win rate: 0.721 | time: 9.35 minutes\n",
      "Epoch: 219/999 | Loss: 0.0332 | Episodes: 34 | Win count: 159 | Win rate: 0.723 | time: 9.37 minutes\n",
      "Epoch: 220/999 | Loss: 0.0121 | Episodes: 13 | Win count: 160 | Win rate: 0.724 | time: 9.38 minutes\n",
      "Epoch: 221/999 | Loss: 0.0169 | Episodes: 19 | Win count: 161 | Win rate: 0.725 | time: 9.40 minutes\n",
      "Epoch: 222/999 | Loss: 0.0251 | Episodes: 26 | Win count: 162 | Win rate: 0.726 | time: 9.42 minutes\n",
      "Epoch: 223/999 | Loss: 0.0197 | Episodes: 24 | Win count: 163 | Win rate: 0.728 | time: 9.44 minutes\n",
      "Epoch: 224/999 | Loss: 0.0224 | Episodes: 25 | Win count: 164 | Win rate: 0.729 | time: 9.46 minutes\n",
      "Epoch: 225/999 | Loss: 0.0553 | Episodes: 58 | Win count: 165 | Win rate: 0.730 | time: 9.50 minutes\n",
      "Epoch: 226/999 | Loss: 0.0273 | Episodes: 35 | Win count: 166 | Win rate: 0.731 | time: 9.53 minutes\n",
      "Epoch: 227/999 | Loss: 0.0079 | Episodes: 8 | Win count: 167 | Win rate: 0.732 | time: 9.55 minutes\n",
      "Epoch: 228/999 | Loss: 0.0402 | Episodes: 36 | Win count: 168 | Win rate: 0.734 | time: 9.57 minutes\n",
      "Epoch: 229/999 | Loss: 0.0329 | Episodes: 31 | Win count: 169 | Win rate: 0.735 | time: 9.60 minutes\n",
      "Epoch: 230/999 | Loss: 0.0344 | Episodes: 31 | Win count: 170 | Win rate: 0.736 | time: 9.62 minutes\n",
      "Epoch: 231/999 | Loss: 0.0977 | Episodes: 98 | Win count: 171 | Win rate: 0.737 | time: 9.70 minutes\n",
      "Epoch: 232/999 | Loss: 0.0057 | Episodes: 5 | Win count: 172 | Win rate: 0.738 | time: 9.70 minutes\n",
      "Epoch: 233/999 | Loss: 0.0093 | Episodes: 8 | Win count: 173 | Win rate: 0.739 | time: 9.71 minutes\n",
      "Epoch: 234/999 | Loss: 0.0033 | Episodes: 4 | Win count: 174 | Win rate: 0.740 | time: 9.72 minutes\n",
      "Epoch: 235/999 | Loss: 0.0225 | Episodes: 26 | Win count: 175 | Win rate: 0.742 | time: 9.74 minutes\n",
      "Epoch: 236/999 | Loss: 0.0178 | Episodes: 27 | Win count: 176 | Win rate: 0.743 | time: 9.76 minutes\n",
      "Epoch: 237/999 | Loss: 0.0011 | Episodes: 1 | Win count: 177 | Win rate: 0.744 | time: 9.77 minutes\n",
      "Epoch: 238/999 | Loss: 0.0005 | Episodes: 1 | Win count: 178 | Win rate: 0.745 | time: 9.77 minutes\n",
      "Epoch: 239/999 | Loss: 0.0186 | Episodes: 23 | Win count: 179 | Win rate: 0.746 | time: 9.79 minutes\n",
      "Epoch: 240/999 | Loss: 0.0124 | Episodes: 18 | Win count: 180 | Win rate: 0.747 | time: 9.81 minutes\n",
      "Epoch: 241/999 | Loss: 0.0086 | Episodes: 16 | Win count: 181 | Win rate: 0.748 | time: 9.82 minutes\n",
      "Epoch: 242/999 | Loss: 0.0149 | Episodes: 26 | Win count: 182 | Win rate: 0.749 | time: 9.85 minutes\n",
      "Epoch: 243/999 | Loss: 0.0119 | Episodes: 22 | Win count: 183 | Win rate: 0.750 | time: 9.88 minutes\n",
      "Epoch: 244/999 | Loss: 0.0054 | Episodes: 13 | Win count: 184 | Win rate: 0.751 | time: 9.90 minutes\n",
      "Epoch: 245/999 | Loss: 0.0021 | Episodes: 3 | Win count: 185 | Win rate: 0.752 | time: 9.90 minutes\n",
      "Epoch: 246/999 | Loss: 0.0153 | Episodes: 26 | Win count: 186 | Win rate: 0.753 | time: 9.93 minutes\n"
     ]
    },
    {
     "name": "stdout",
     "output_type": "stream",
     "text": [
      "Epoch: 247/999 | Loss: 0.0063 | Episodes: 6 | Win count: 187 | Win rate: 0.754 | time: 9.93 minutes\n",
      "Epoch: 248/999 | Loss: 0.0087 | Episodes: 13 | Win count: 188 | Win rate: 0.755 | time: 9.95 minutes\n",
      "Epoch: 249/999 | Loss: 0.0042 | Episodes: 7 | Win count: 189 | Win rate: 0.756 | time: 9.96 minutes\n",
      "Epoch: 250/999 | Loss: 0.0037 | Episodes: 7 | Win count: 190 | Win rate: 0.757 | time: 9.97 minutes\n",
      "Epoch: 251/999 | Loss: 0.0129 | Episodes: 19 | Win count: 191 | Win rate: 0.758 | time: 9.99 minutes\n",
      "Epoch: 252/999 | Loss: 0.0186 | Episodes: 28 | Win count: 192 | Win rate: 0.759 | time: 10.02 minutes\n",
      "Epoch: 253/999 | Loss: 0.0141 | Episodes: 28 | Win count: 193 | Win rate: 0.760 | time: 10.05 minutes\n",
      "Epoch: 254/999 | Loss: 0.0200 | Episodes: 52 | Win count: 194 | Win rate: 0.761 | time: 10.09 minutes\n",
      "Epoch: 255/999 | Loss: 0.0017 | Episodes: 4 | Win count: 195 | Win rate: 0.762 | time: 10.11 minutes\n",
      "Epoch: 256/999 | Loss: 0.0176 | Episodes: 42 | Win count: 196 | Win rate: 0.763 | time: 10.14 minutes\n",
      "Epoch: 257/999 | Loss: 0.0066 | Episodes: 17 | Win count: 197 | Win rate: 0.764 | time: 10.16 minutes\n",
      "Epoch: 258/999 | Loss: 0.0106 | Episodes: 34 | Win count: 198 | Win rate: 0.764 | time: 10.20 minutes\n",
      "Epoch: 259/999 | Loss: 0.0152 | Episodes: 31 | Win count: 199 | Win rate: 0.765 | time: 10.23 minutes\n",
      "Epoch: 260/999 | Loss: 0.0017 | Episodes: 3 | Win count: 200 | Win rate: 0.766 | time: 10.24 minutes\n",
      "Epoch: 261/999 | Loss: 0.0037 | Episodes: 7 | Win count: 201 | Win rate: 0.767 | time: 10.26 minutes\n",
      "Epoch: 262/999 | Loss: 0.0005 | Episodes: 1 | Win count: 202 | Win rate: 0.768 | time: 10.26 minutes\n",
      "Epoch: 263/999 | Loss: 0.0149 | Episodes: 28 | Win count: 203 | Win rate: 0.769 | time: 10.29 minutes\n",
      "Epoch: 264/999 | Loss: 0.0230 | Episodes: 30 | Win count: 204 | Win rate: 0.770 | time: 10.32 minutes\n",
      "Epoch: 265/999 | Loss: 0.0059 | Episodes: 9 | Win count: 205 | Win rate: 0.771 | time: 10.34 minutes\n",
      "Epoch: 266/999 | Loss: 0.0042 | Episodes: 6 | Win count: 206 | Win rate: 0.772 | time: 10.36 minutes\n",
      "Epoch: 267/999 | Loss: 0.0007 | Episodes: 1 | Win count: 207 | Win rate: 0.772 | time: 10.36 minutes\n",
      "Epoch: 268/999 | Loss: 0.0147 | Episodes: 19 | Win count: 208 | Win rate: 0.773 | time: 10.38 minutes\n",
      "Epoch: 269/999 | Loss: 0.0336 | Episodes: 41 | Win count: 209 | Win rate: 0.774 | time: 10.42 minutes\n",
      "Epoch: 270/999 | Loss: 0.0262 | Episodes: 31 | Win count: 210 | Win rate: 0.775 | time: 10.45 minutes\n",
      "Epoch: 271/999 | Loss: 0.0211 | Episodes: 24 | Win count: 211 | Win rate: 0.776 | time: 10.48 minutes\n",
      "Epoch: 272/999 | Loss: 0.0223 | Episodes: 24 | Win count: 212 | Win rate: 0.777 | time: 10.50 minutes\n",
      "Epoch: 273/999 | Loss: 0.0168 | Episodes: 22 | Win count: 213 | Win rate: 0.777 | time: 10.54 minutes\n",
      "Epoch: 274/999 | Loss: 0.0081 | Episodes: 9 | Win count: 214 | Win rate: 0.778 | time: 10.55 minutes\n",
      "Epoch: 275/999 | Loss: 0.0044 | Episodes: 5 | Win count: 215 | Win rate: 0.779 | time: 10.56 minutes\n",
      "Epoch: 276/999 | Loss: 0.0066 | Episodes: 7 | Win count: 216 | Win rate: 0.780 | time: 10.58 minutes\n",
      "Epoch: 277/999 | Loss: 0.0237 | Episodes: 30 | Win count: 217 | Win rate: 0.781 | time: 10.61 minutes\n",
      "Epoch: 278/999 | Loss: 0.0009 | Episodes: 2 | Win count: 218 | Win rate: 0.781 | time: 10.62 minutes\n",
      "Epoch: 279/999 | Loss: 0.0074 | Episodes: 9 | Win count: 219 | Win rate: 0.782 | time: 10.63 minutes\n",
      "Epoch: 280/999 | Loss: 0.0170 | Episodes: 19 | Win count: 220 | Win rate: 0.783 | time: 10.66 minutes\n",
      "Epoch: 281/999 | Loss: 0.0062 | Episodes: 7 | Win count: 221 | Win rate: 0.784 | time: 10.67 minutes\n",
      "Epoch: 282/999 | Loss: 0.0254 | Episodes: 28 | Win count: 222 | Win rate: 0.784 | time: 10.69 minutes\n",
      "Epoch: 283/999 | Loss: 0.0187 | Episodes: 22 | Win count: 223 | Win rate: 0.785 | time: 10.71 minutes\n",
      "Epoch: 284/999 | Loss: 0.0087 | Episodes: 11 | Win count: 224 | Win rate: 0.786 | time: 10.72 minutes\n",
      "Epoch: 285/999 | Loss: 0.0280 | Episodes: 35 | Win count: 225 | Win rate: 0.787 | time: 10.76 minutes\n",
      "Epoch: 286/999 | Loss: 0.0104 | Episodes: 13 | Win count: 226 | Win rate: 0.787 | time: 10.77 minutes\n",
      "Epoch: 287/999 | Loss: 0.0256 | Episodes: 31 | Win count: 227 | Win rate: 0.788 | time: 10.79 minutes\n",
      "Epoch: 288/999 | Loss: 0.0013 | Episodes: 2 | Win count: 228 | Win rate: 0.789 | time: 10.80 minutes\n",
      "Epoch: 289/999 | Loss: 0.0175 | Episodes: 25 | Win count: 229 | Win rate: 0.790 | time: 10.83 minutes\n",
      "Epoch: 290/999 | Loss: 0.0123 | Episodes: 23 | Win count: 230 | Win rate: 0.790 | time: 10.86 minutes\n",
      "Epoch: 291/999 | Loss: 0.0129 | Episodes: 21 | Win count: 231 | Win rate: 0.791 | time: 10.89 minutes\n",
      "Epoch: 292/999 | Loss: 0.0184 | Episodes: 28 | Win count: 232 | Win rate: 0.792 | time: 10.92 minutes\n",
      "Epoch: 293/999 | Loss: 0.0018 | Episodes: 3 | Win count: 233 | Win rate: 0.793 | time: 10.92 minutes\n",
      "Epoch: 294/999 | Loss: 0.0130 | Episodes: 25 | Win count: 234 | Win rate: 0.793 | time: 10.94 minutes\n",
      "Epoch: 295/999 | Loss: 0.0131 | Episodes: 28 | Win count: 235 | Win rate: 0.794 | time: 10.96 minutes\n",
      "Epoch: 296/999 | Loss: 0.0112 | Episodes: 29 | Win count: 236 | Win rate: 0.795 | time: 10.99 minutes\n",
      "Epoch: 297/999 | Loss: 0.0018 | Episodes: 4 | Win count: 237 | Win rate: 0.795 | time: 11.00 minutes\n",
      "Epoch: 298/999 | Loss: 0.0087 | Episodes: 21 | Win count: 238 | Win rate: 0.796 | time: 11.03 minutes\n",
      "Epoch: 299/999 | Loss: 0.0020 | Episodes: 7 | Win count: 239 | Win rate: 0.797 | time: 11.04 minutes\n",
      "Epoch: 300/999 | Loss: 0.0052 | Episodes: 17 | Win count: 240 | Win rate: 0.797 | time: 11.06 minutes\n",
      "Epoch: 301/999 | Loss: 0.0006 | Episodes: 2 | Win count: 241 | Win rate: 0.798 | time: 11.06 minutes\n",
      "Epoch: 302/999 | Loss: 0.0072 | Episodes: 19 | Win count: 242 | Win rate: 0.799 | time: 11.07 minutes\n",
      "Epoch: 303/999 | Loss: 0.0006 | Episodes: 2 | Win count: 243 | Win rate: 0.799 | time: 11.08 minutes\n",
      "Epoch: 304/999 | Loss: 0.0297 | Episodes: 71 | Win count: 244 | Win rate: 0.800 | time: 11.13 minutes\n",
      "Epoch: 305/999 | Loss: 0.0025 | Episodes: 6 | Win count: 245 | Win rate: 0.801 | time: 11.14 minutes\n",
      "Epoch: 306/999 | Loss: 0.0040 | Episodes: 13 | Win count: 246 | Win rate: 0.801 | time: 11.15 minutes\n",
      "Epoch: 307/999 | Loss: 0.0019 | Episodes: 3 | Win count: 247 | Win rate: 0.802 | time: 11.16 minutes\n",
      "Epoch: 308/999 | Loss: 0.0086 | Episodes: 21 | Win count: 248 | Win rate: 0.803 | time: 11.18 minutes\n",
      "Epoch: 309/999 | Loss: 0.0069 | Episodes: 19 | Win count: 249 | Win rate: 0.803 | time: 11.19 minutes\n",
      "Epoch: 310/999 | Loss: 0.0035 | Episodes: 10 | Win count: 250 | Win rate: 0.804 | time: 11.20 minutes\n",
      "Epoch: 311/999 | Loss: 0.0009 | Episodes: 3 | Win count: 251 | Win rate: 0.804 | time: 11.20 minutes\n",
      "Epoch: 312/999 | Loss: 0.0028 | Episodes: 5 | Win count: 252 | Win rate: 0.805 | time: 11.22 minutes\n",
      "Epoch: 313/999 | Loss: 0.0121 | Episodes: 22 | Win count: 253 | Win rate: 0.806 | time: 11.24 minutes\n",
      "Epoch: 314/999 | Loss: 0.0277 | Episodes: 47 | Win count: 254 | Win rate: 0.806 | time: 11.27 minutes\n",
      "Epoch: 315/999 | Loss: 0.0135 | Episodes: 27 | Win count: 255 | Win rate: 0.807 | time: 11.29 minutes\n",
      "Epoch: 316/999 | Loss: 0.0104 | Episodes: 20 | Win count: 256 | Win rate: 0.808 | time: 11.31 minutes\n",
      "Epoch: 317/999 | Loss: 0.0044 | Episodes: 6 | Win count: 257 | Win rate: 0.808 | time: 11.32 minutes\n",
      "Epoch: 318/999 | Loss: 0.0013 | Episodes: 2 | Win count: 258 | Win rate: 0.809 | time: 11.32 minutes\n",
      "Epoch: 319/999 | Loss: 0.0141 | Episodes: 24 | Win count: 259 | Win rate: 0.809 | time: 11.34 minutes\n",
      "Epoch: 320/999 | Loss: 0.0005 | Episodes: 2 | Win count: 260 | Win rate: 0.810 | time: 11.36 minutes\n",
      "Epoch: 321/999 | Loss: 0.0044 | Episodes: 10 | Win count: 261 | Win rate: 0.811 | time: 11.37 minutes\n",
      "Epoch: 322/999 | Loss: 0.0076 | Episodes: 22 | Win count: 262 | Win rate: 0.811 | time: 11.38 minutes\n",
      "Epoch: 323/999 | Loss: 0.0034 | Episodes: 14 | Win count: 263 | Win rate: 0.812 | time: 11.39 minutes\n",
      "Epoch: 324/999 | Loss: 0.0048 | Episodes: 17 | Win count: 264 | Win rate: 0.812 | time: 11.41 minutes\n",
      "Epoch: 325/999 | Loss: 0.0024 | Episodes: 10 | Win count: 265 | Win rate: 0.813 | time: 11.43 minutes\n",
      "Epoch: 326/999 | Loss: 0.0071 | Episodes: 25 | Win count: 266 | Win rate: 0.813 | time: 11.46 minutes\n",
      "Epoch: 327/999 | Loss: 0.0058 | Episodes: 24 | Win count: 267 | Win rate: 0.814 | time: 11.49 minutes\n"
     ]
    },
    {
     "name": "stdout",
     "output_type": "stream",
     "text": [
      "Epoch: 328/999 | Loss: 0.0011 | Episodes: 3 | Win count: 268 | Win rate: 0.815 | time: 11.50 minutes\n",
      "Epoch: 329/999 | Loss: 0.0054 | Episodes: 19 | Win count: 269 | Win rate: 0.815 | time: 11.52 minutes\n",
      "Reached 100% win rate at epoch: 329\n",
      "n_epoch: 329, max_mem: 512, data: 32, time: 11.53 minutes\n"
     ]
    },
    {
     "data": {
      "text/plain": [
       "691.850708"
      ]
     },
     "execution_count": 301,
     "metadata": {},
     "output_type": "execute_result"
    },
    {
     "data": {
      "image/png": "[encoded data removed]",
      "text/plain": [
       "<Figure size 432x288 with 1 Axes>"
      ]
     },
     "metadata": {
      "needs_background": "light"
     },
     "output_type": "display_data"
    }
   ],
   "source": [
    "model = build_model(maze)\n",
    "qtrain(model, maze, epochs=1000, max_memory=8*maze.size, data_size=32)"
   ]
  },
  {
   "cell_type": "markdown",
   "metadata": {},
   "source": [
    "This cell will check to see if the model passes the completion check. Note: This could take several minutes."
   ]
  },
  {
   "cell_type": "code",
   "execution_count": 302,
   "metadata": {},
   "outputs": [
    {
     "data": {
      "text/plain": [
       "<matplotlib.image.AxesImage at 0x1f5a1c65ac8>"
      ]
     },
     "execution_count": 302,
     "metadata": {},
     "output_type": "execute_result"
    },
    {
     "data": {
      "image/png": "[encoded data removed]",
      "text/plain": [
       "<Figure size 432x288 with 1 Axes>"
      ]
     },
     "metadata": {
      "needs_background": "light"
     },
     "output_type": "display_data"
    }
   ],
   "source": [
    "completion_check(model, qmaze)\n",
    "show(qmaze)"
   ]
  },
  {
   "cell_type": "markdown",
   "metadata": {},
   "source": [
    "This cell will test your model for one game. It will start the pirate at the top-left corner and run play_game. The agent should find a path from the starting position to the target (treasure). The treasure is located in the bottom-right corner."
   ]
  },
  {
   "cell_type": "code",
   "execution_count": 303,
   "metadata": {},
   "outputs": [
    {
     "data": {
      "text/plain": [
       "<matplotlib.image.AxesImage at 0x1f5a4817908>"
      ]
     },
     "execution_count": 303,
     "metadata": {},
     "output_type": "execute_result"
    },
    {
     "data": {
      "image/png": "[encoded data removed]",
      "text/plain": [
       "<Figure size 432x288 with 1 Axes>"
      ]
     },
     "metadata": {
      "needs_background": "light"
     },
     "output_type": "display_data"
    }
   ],
   "source": [
    "pirate_start = (0, 0)\n",
    "play_game(model, qmaze, pirate_start)\n",
    "show(qmaze)"
   ]
  },
  {
   "cell_type": "markdown",
   "metadata": {},
   "source": [
    "## Save and Submit Your Work\n",
    "After you have finished creating the code for your notebook, save your work. Make sure that your notebook contains your name in the filename (e.g. Doe_Jane_ProjectTwo.ipynb). This will help your instructor access and grade your work easily. Download a copy of your IPYNB file and submit it to Brightspace. Refer to the Jupyter Notebook in Apporto Tutorial if you need help with these tasks."
   ]
  }
 ],
 "metadata": {
  "kernelspec": {
   "display_name": "Python 3",
   "language": "python",
   "name": "python3"
  },
  "language_info": {
   "codemirror_mode": {
    "name": "ipython",
    "version": 3
   },
   "file_extension": ".py",
   "mimetype": "text/x-python",
   "name": "python",
   "nbconvert_exporter": "python",
   "pygments_lexer": "ipython3",
   "version": "3.7.4"
  }
 },
 "nbformat": 4,
 "nbformat_minor": 2
}
